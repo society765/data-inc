{
 "cells": [
  {
   "cell_type": "code",
   "execution_count": 1,
   "metadata": {},
   "outputs": [
    {
     "name": "stdout",
     "output_type": "stream",
     "text": [
      "python version: 3.7.1 (default, Dec 14 2018, 19:28:38) \n",
      "[GCC 7.3.0]\n",
      "pandas version: 0.23.4\n"
     ]
    }
   ],
   "source": [
    "import numpy as np \n",
    "import pandas as pd \n",
    "import scipy as sp \n",
    "from sklearn.linear_model import LinearRegression\n",
    "import seaborn as sns \n",
    "import random\n",
    "\n",
    "import matplotlib.pyplot as plt \n",
    "from mpl_toolkits.basemap import Basemap\n",
    "\n",
    "import sys \n",
    "\n",
    "print('python version:', sys.version) \n",
    "print('pandas version:', pd.__version__)\n",
    "\n",
    "pd.set_option('display.max_columns', 50)\n",
    "pd.set_option('precision', 12)"
   ]
  },
  {
   "cell_type": "code",
   "execution_count": 2,
   "metadata": {},
   "outputs": [
    {
     "name": "stdout",
     "output_type": "stream",
     "text": [
      "(186354, 22)\n"
     ]
    }
   ],
   "source": [
    "df = pd.read_csv('./chicago-food-inspections.csv')\n",
    "print(df.shape)"
   ]
  },
  {
   "cell_type": "code",
   "execution_count": 3,
   "metadata": {},
   "outputs": [
    {
     "data": {
      "text/html": [
       "<div>\n",
       "<style scoped>\n",
       "    .dataframe tbody tr th:only-of-type {\n",
       "        vertical-align: middle;\n",
       "    }\n",
       "\n",
       "    .dataframe tbody tr th {\n",
       "        vertical-align: top;\n",
       "    }\n",
       "\n",
       "    .dataframe thead th {\n",
       "        text-align: right;\n",
       "    }\n",
       "</style>\n",
       "<table border=\"1\" class=\"dataframe\">\n",
       "  <thead>\n",
       "    <tr style=\"text-align: right;\">\n",
       "      <th></th>\n",
       "      <th>Inspection ID</th>\n",
       "      <th>DBA Name</th>\n",
       "      <th>AKA Name</th>\n",
       "      <th>License #</th>\n",
       "      <th>Facility Type</th>\n",
       "      <th>Risk</th>\n",
       "      <th>Address</th>\n",
       "      <th>City</th>\n",
       "      <th>State</th>\n",
       "      <th>Zip</th>\n",
       "      <th>Inspection Date</th>\n",
       "      <th>Inspection Type</th>\n",
       "      <th>Results</th>\n",
       "      <th>Violations</th>\n",
       "      <th>Latitude</th>\n",
       "      <th>Longitude</th>\n",
       "      <th>Location</th>\n",
       "      <th>Historical Wards 2003-2015</th>\n",
       "      <th>Zip Codes</th>\n",
       "      <th>Community Areas</th>\n",
       "      <th>Census Tracts</th>\n",
       "      <th>Wards</th>\n",
       "    </tr>\n",
       "  </thead>\n",
       "  <tbody>\n",
       "    <tr>\n",
       "      <th>0</th>\n",
       "      <td>2288249</td>\n",
       "      <td>SPILT MILK</td>\n",
       "      <td>SPILT MILK</td>\n",
       "      <td>2663633.0</td>\n",
       "      <td>Bakery</td>\n",
       "      <td>Risk 2 (Medium)</td>\n",
       "      <td>1844 S BLUE ISLAND AVE</td>\n",
       "      <td>CHICAGO</td>\n",
       "      <td>IL</td>\n",
       "      <td>60608.0</td>\n",
       "      <td>05/03/2019</td>\n",
       "      <td>License</td>\n",
       "      <td>Pass w/ Conditions</td>\n",
       "      <td>3. MANAGEMENT, FOOD EMPLOYEE AND CONDITIONAL E...</td>\n",
       "      <td>41.856730538799</td>\n",
       "      <td>-87.662299836259</td>\n",
       "      <td>(41.85673053879921, -87.66229983625918)</td>\n",
       "      <td>8.0</td>\n",
       "      <td>14920.0</td>\n",
       "      <td>33.0</td>\n",
       "      <td>365.0</td>\n",
       "      <td>26.0</td>\n",
       "    </tr>\n",
       "    <tr>\n",
       "      <th>1</th>\n",
       "      <td>2288219</td>\n",
       "      <td>TEDDY BEAR NURSERY SCHOOL, INC</td>\n",
       "      <td>TEDDY BEAR NURSERY SCHOOL, INC</td>\n",
       "      <td>2215477.0</td>\n",
       "      <td>Daycare Above and Under 2 Years</td>\n",
       "      <td>Risk 1 (High)</td>\n",
       "      <td>6401 S PULASKI RD</td>\n",
       "      <td>CHICAGO</td>\n",
       "      <td>IL</td>\n",
       "      <td>60629.0</td>\n",
       "      <td>05/03/2019</td>\n",
       "      <td>License</td>\n",
       "      <td>Pass</td>\n",
       "      <td>51. PLUMBING INSTALLED; PROPER BACKFLOW DEVICE...</td>\n",
       "      <td>41.776783362512</td>\n",
       "      <td>-87.722565512035</td>\n",
       "      <td>(41.776783362511694, -87.72256551203533)</td>\n",
       "      <td>23.0</td>\n",
       "      <td>21867.0</td>\n",
       "      <td>63.0</td>\n",
       "      <td>238.0</td>\n",
       "      <td>15.0</td>\n",
       "    </tr>\n",
       "    <tr>\n",
       "      <th>2</th>\n",
       "      <td>2288221</td>\n",
       "      <td>PALETERIA AYUTLA</td>\n",
       "      <td>PALETERIA AYUTLA</td>\n",
       "      <td>2321232.0</td>\n",
       "      <td>Restaurant</td>\n",
       "      <td>Risk 2 (Medium)</td>\n",
       "      <td>2404 W 46TH PL</td>\n",
       "      <td>CHICAGO</td>\n",
       "      <td>IL</td>\n",
       "      <td>60632.0</td>\n",
       "      <td>05/03/2019</td>\n",
       "      <td>Canvass</td>\n",
       "      <td>Pass w/ Conditions</td>\n",
       "      <td>3. MANAGEMENT, FOOD EMPLOYEE AND CONDITIONAL E...</td>\n",
       "      <td>41.809456917362</td>\n",
       "      <td>-87.684745989347</td>\n",
       "      <td>(41.80945691736228, -87.68474598934672)</td>\n",
       "      <td>29.0</td>\n",
       "      <td>14924.0</td>\n",
       "      <td>55.0</td>\n",
       "      <td>687.0</td>\n",
       "      <td>3.0</td>\n",
       "    </tr>\n",
       "    <tr>\n",
       "      <th>3</th>\n",
       "      <td>2288215</td>\n",
       "      <td>PALATERIA AYUTLA</td>\n",
       "      <td>PALETERIA AYUTLA</td>\n",
       "      <td>2252810.0</td>\n",
       "      <td>Mobile Frozen Desserts Vendor</td>\n",
       "      <td>Risk 3 (Low)</td>\n",
       "      <td>2404 W 46TH PL</td>\n",
       "      <td>CHICAGO</td>\n",
       "      <td>IL</td>\n",
       "      <td>60632.0</td>\n",
       "      <td>05/03/2019</td>\n",
       "      <td>License</td>\n",
       "      <td>Pass w/ Conditions</td>\n",
       "      <td>3. MANAGEMENT, FOOD EMPLOYEE AND CONDITIONAL E...</td>\n",
       "      <td>41.809456917362</td>\n",
       "      <td>-87.684745989347</td>\n",
       "      <td>(41.80945691736228, -87.68474598934672)</td>\n",
       "      <td>29.0</td>\n",
       "      <td>14924.0</td>\n",
       "      <td>55.0</td>\n",
       "      <td>687.0</td>\n",
       "      <td>3.0</td>\n",
       "    </tr>\n",
       "    <tr>\n",
       "      <th>4</th>\n",
       "      <td>2288224</td>\n",
       "      <td>LA V BAKERY, INC</td>\n",
       "      <td>LA V BAKERY, INC</td>\n",
       "      <td>2550054.0</td>\n",
       "      <td>Bakery</td>\n",
       "      <td>Risk 2 (Medium)</td>\n",
       "      <td>2338 S KEDZIE AVE</td>\n",
       "      <td>CHICAGO</td>\n",
       "      <td>IL</td>\n",
       "      <td>60623.0</td>\n",
       "      <td>05/03/2019</td>\n",
       "      <td>Canvass</td>\n",
       "      <td>Out of Business</td>\n",
       "      <td>NaN</td>\n",
       "      <td>41.848790495081</td>\n",
       "      <td>-87.705310981559</td>\n",
       "      <td>(41.84879049508066, -87.70531098155864)</td>\n",
       "      <td>36.0</td>\n",
       "      <td>21569.0</td>\n",
       "      <td>32.0</td>\n",
       "      <td>291.0</td>\n",
       "      <td>1.0</td>\n",
       "    </tr>\n",
       "  </tbody>\n",
       "</table>\n",
       "</div>"
      ],
      "text/plain": [
       "   Inspection ID                        DBA Name  \\\n",
       "0        2288249                      SPILT MILK   \n",
       "1        2288219  TEDDY BEAR NURSERY SCHOOL, INC   \n",
       "2        2288221                PALETERIA AYUTLA   \n",
       "3        2288215                PALATERIA AYUTLA   \n",
       "4        2288224                LA V BAKERY, INC   \n",
       "\n",
       "                         AKA Name  License #                    Facility Type  \\\n",
       "0                      SPILT MILK  2663633.0                           Bakery   \n",
       "1  TEDDY BEAR NURSERY SCHOOL, INC  2215477.0  Daycare Above and Under 2 Years   \n",
       "2                PALETERIA AYUTLA  2321232.0                       Restaurant   \n",
       "3                PALETERIA AYUTLA  2252810.0    Mobile Frozen Desserts Vendor   \n",
       "4                LA V BAKERY, INC  2550054.0                           Bakery   \n",
       "\n",
       "              Risk                  Address     City State      Zip  \\\n",
       "0  Risk 2 (Medium)  1844 S BLUE ISLAND AVE   CHICAGO    IL  60608.0   \n",
       "1    Risk 1 (High)       6401 S PULASKI RD   CHICAGO    IL  60629.0   \n",
       "2  Risk 2 (Medium)          2404 W 46TH PL   CHICAGO    IL  60632.0   \n",
       "3     Risk 3 (Low)          2404 W 46TH PL   CHICAGO    IL  60632.0   \n",
       "4  Risk 2 (Medium)       2338 S KEDZIE AVE   CHICAGO    IL  60623.0   \n",
       "\n",
       "  Inspection Date Inspection Type             Results  \\\n",
       "0      05/03/2019         License  Pass w/ Conditions   \n",
       "1      05/03/2019         License                Pass   \n",
       "2      05/03/2019         Canvass  Pass w/ Conditions   \n",
       "3      05/03/2019         License  Pass w/ Conditions   \n",
       "4      05/03/2019         Canvass     Out of Business   \n",
       "\n",
       "                                          Violations         Latitude  \\\n",
       "0  3. MANAGEMENT, FOOD EMPLOYEE AND CONDITIONAL E...  41.856730538799   \n",
       "1  51. PLUMBING INSTALLED; PROPER BACKFLOW DEVICE...  41.776783362512   \n",
       "2  3. MANAGEMENT, FOOD EMPLOYEE AND CONDITIONAL E...  41.809456917362   \n",
       "3  3. MANAGEMENT, FOOD EMPLOYEE AND CONDITIONAL E...  41.809456917362   \n",
       "4                                                NaN  41.848790495081   \n",
       "\n",
       "         Longitude                                  Location  \\\n",
       "0 -87.662299836259   (41.85673053879921, -87.66229983625918)   \n",
       "1 -87.722565512035  (41.776783362511694, -87.72256551203533)   \n",
       "2 -87.684745989347   (41.80945691736228, -87.68474598934672)   \n",
       "3 -87.684745989347   (41.80945691736228, -87.68474598934672)   \n",
       "4 -87.705310981559   (41.84879049508066, -87.70531098155864)   \n",
       "\n",
       "   Historical Wards 2003-2015  Zip Codes  Community Areas  Census Tracts  \\\n",
       "0                         8.0    14920.0             33.0          365.0   \n",
       "1                        23.0    21867.0             63.0          238.0   \n",
       "2                        29.0    14924.0             55.0          687.0   \n",
       "3                        29.0    14924.0             55.0          687.0   \n",
       "4                        36.0    21569.0             32.0          291.0   \n",
       "\n",
       "   Wards  \n",
       "0   26.0  \n",
       "1   15.0  \n",
       "2    3.0  \n",
       "3    3.0  \n",
       "4    1.0  "
      ]
     },
     "execution_count": 3,
     "metadata": {},
     "output_type": "execute_result"
    }
   ],
   "source": [
    "df.head()"
   ]
  },
  {
   "cell_type": "code",
   "execution_count": 4,
   "metadata": {},
   "outputs": [
    {
     "data": {
      "text/plain": [
       "Violations                    49607\n",
       "Facility Type                  4751\n",
       "Historical Wards 2003-2015     3300\n",
       "Wards                          3300\n",
       "Community Areas                3300\n",
       "AKA Name                       2451\n",
       "Census Tracts                   693\n",
       "Zip Codes                       664\n",
       "Location                        664\n",
       "Longitude                       664\n",
       "Latitude                        664\n",
       "City                            161\n",
       "Zip                              79\n",
       "Risk                             75\n",
       "State                            34\n",
       "License #                        16\n",
       "Inspection Type                   1\n",
       "DBA Name                          0\n",
       "Inspection Date                   0\n",
       "Address                           0\n",
       "Results                           0\n",
       "Inspection ID                     0\n",
       "dtype: int64"
      ]
     },
     "execution_count": 4,
     "metadata": {},
     "output_type": "execute_result"
    }
   ],
   "source": [
    "df.isna().sum().sort_values(ascending=False)"
   ]
  },
  {
   "cell_type": "code",
   "execution_count": 5,
   "metadata": {
    "scrolled": false
   },
   "outputs": [
    {
     "data": {
      "text/plain": [
       "Pass                    103503\n",
       "Fail                     35942\n",
       "Pass w/ Conditions       23220\n",
       "Out of Business          16211\n",
       "No Entry                  5782\n",
       "Not Ready                 1630\n",
       "Business Not Located        66\n",
       "Name: Results, dtype: int64"
      ]
     },
     "execution_count": 5,
     "metadata": {},
     "output_type": "execute_result"
    }
   ],
   "source": [
    "df.Results.value_counts()"
   ]
  },
  {
   "cell_type": "code",
   "execution_count": 44,
   "metadata": {
    "scrolled": true
   },
   "outputs": [
    {
     "data": {
      "text/plain": [
       "0.19286948495873446"
      ]
     },
     "execution_count": 44,
     "metadata": {},
     "output_type": "execute_result"
    }
   ],
   "source": [
    "(df.Results == 'Fail').sum() / df.Results.count()"
   ]
  },
  {
   "cell_type": "markdown",
   "metadata": {},
   "source": [
    "### Restaurants failed the food inspection\n",
    "\n",
    "This plot is definitely misleading. Because there are more restaurants in Northern Chicago, there would also be higher number of failed resturants. \n",
    "\n",
    "We should compare the fail rate of restaurants."
   ]
  },
  {
   "cell_type": "code",
   "execution_count": 89,
   "metadata": {},
   "outputs": [],
   "source": [
    "failed_coord = df[df.Results == 'Fail'][['Latitude', 'Longitude']].values"
   ]
  },
  {
   "cell_type": "code",
   "execution_count": 90,
   "metadata": {
    "scrolled": false
   },
   "outputs": [
    {
     "data": {
      "image/png": "[encoded data removed]",
      "text/plain": [
       "<Figure size 576x576 with 1 Axes>"
      ]
     },
     "metadata": {},
     "output_type": "display_data"
    }
   ],
   "source": [
    "fig = plt.figure(figsize=(8, 8))\n",
    "m = Basemap(projection='lcc', resolution='h', \n",
    "            lat_0=41.85, lon_0=-87.7,\n",
    "            width=5E4, height=5E4)\n",
    "\n",
    "m.fillcontinents(color='#ddaa66',lake_color='aqua')\n",
    "m.readshapefile('geo_export_8f5b8083-f611-4548-bc8d-938143e844b2', name='chicago')\n",
    "m.shadedrelief()\n",
    "m.drawcoastlines()\n",
    "\n",
    "for lat, lon in failed_coord[np.random.choice(len(failed_coord), 500, replace=False)]: \n",
    "    m.plot(lon, lat, marker='.', color='m', markersize=8, markeredgewidth=2, latlon=True)"
   ]
  },
  {
   "cell_type": "markdown",
   "metadata": {},
   "source": [
    "### Zip code regions with highest & lowest Fail rate"
   ]
  },
  {
   "cell_type": "code",
   "execution_count": 85,
   "metadata": {},
   "outputs": [],
   "source": [
    "zipmask = (df.groupby('Zip').Results.count() > 20)"
   ]
  },
  {
   "cell_type": "code",
   "execution_count": 86,
   "metadata": {},
   "outputs": [],
   "source": [
    "zip_fail_rate = ((df[df.Results == 'Fail'].groupby('Zip').Results.count()) / \\\n",
    "    df.groupby('Zip').Results.count())[zipmask].sort_values(ascending=False)"
   ]
  },
  {
   "cell_type": "code",
   "execution_count": 87,
   "metadata": {},
   "outputs": [
    {
     "data": {
      "text/plain": [
       "Zip\n",
       "60615.0    0.275534441805\n",
       "60637.0    0.270561797753\n",
       "60619.0    0.254027926960\n",
       "60628.0    0.249264273102\n",
       "60623.0    0.246260796292\n",
       "60644.0    0.244151424926\n",
       "60653.0    0.243478260870\n",
       "60636.0    0.238864628821\n",
       "60651.0    0.237923576063\n",
       "60640.0    0.230722525804\n",
       "Name: Results, dtype: float64"
      ]
     },
     "execution_count": 87,
     "metadata": {},
     "output_type": "execute_result"
    }
   ],
   "source": [
    "zip_fail_rate.head(10)"
   ]
  },
  {
   "cell_type": "code",
   "execution_count": 88,
   "metadata": {},
   "outputs": [
    {
     "data": {
      "text/plain": [
       "Zip\n",
       "60618.0    0.145848119233\n",
       "60602.0    0.142962417097\n",
       "60654.0    0.142678034102\n",
       "60652.0    0.138954869359\n",
       "60638.0    0.132433572332\n",
       "60193.0    0.130434782609\n",
       "60666.0    0.129774127310\n",
       "60606.0    0.129148866250\n",
       "60604.0    0.126482213439\n",
       "60601.0    0.124803025528\n",
       "Name: Results, dtype: float64"
      ]
     },
     "execution_count": 88,
     "metadata": {},
     "output_type": "execute_result"
    }
   ],
   "source": [
    "zip_fail_rate.tail(10)"
   ]
  },
  {
   "cell_type": "markdown",
   "metadata": {},
   "source": [
    "### Fail rate for different facility types"
   ]
  },
  {
   "cell_type": "code",
   "execution_count": 31,
   "metadata": {
    "scrolled": true
   },
   "outputs": [
    {
     "data": {
      "text/plain": [
       "Restaurant                         123783\n",
       "Grocery Store                       23988\n",
       "School                              11860\n",
       "Children's Services Facility         2725\n",
       "Bakery                               2707\n",
       "Daycare (2 - 6 Years)                2637\n",
       "Daycare Above and Under 2 Years      2176\n",
       "Long Term Care                       1244\n",
       "Catering                             1105\n",
       "Mobile Food Dispenser                 843\n",
       "Liquor                                830\n",
       "Daycare Combo 1586                    780\n",
       "Mobile Food Preparer                  551\n",
       "Golden Diner                          538\n",
       "Wholesale                             530\n",
       "Name: Facility Type, dtype: int64"
      ]
     },
     "execution_count": 31,
     "metadata": {},
     "output_type": "execute_result"
    }
   ],
   "source": [
    "df['Facility Type'].value_counts().head(15)"
   ]
  },
  {
   "cell_type": "code",
   "execution_count": 48,
   "metadata": {},
   "outputs": [],
   "source": [
    "factype_mask = (df.groupby('Facility Type').Results.count() > 100)"
   ]
  },
  {
   "cell_type": "code",
   "execution_count": 49,
   "metadata": {},
   "outputs": [],
   "source": [
    "factype_fail_rate = ((df[df.Results == 'Fail'].groupby('Facility Type').Results.count()) / \\\n",
    "    df.groupby('Facility Type').Results.count())[factype_mask].sort_values(ascending=False)"
   ]
  },
  {
   "cell_type": "code",
   "execution_count": 50,
   "metadata": {},
   "outputs": [
    {
     "data": {
      "text/plain": [
       "Facility Type\n",
       "Liquor                   0.357831325301\n",
       "TAVERN                   0.345238095238\n",
       "Wholesale                0.341509433962\n",
       "Mobile Food Dispenser    0.297746144721\n",
       "Mobile Food Preparer     0.290381125227\n",
       "GAS STATION              0.271929824561\n",
       "Grocery Store            0.237326996832\n",
       "Daycare Combo 1586       0.237179487179\n",
       "BANQUET HALL             0.234042553191\n",
       "Long Term Care           0.222668810289\n",
       "Name: Results, dtype: float64"
      ]
     },
     "execution_count": 50,
     "metadata": {},
     "output_type": "execute_result"
    }
   ],
   "source": [
    "factype_fail_rate.head(10)"
   ]
  },
  {
   "cell_type": "code",
   "execution_count": 51,
   "metadata": {},
   "outputs": [
    {
     "data": {
      "text/plain": [
       "Facility Type\n",
       "Daycare (2 - 6 Years)              0.191505498673\n",
       "Golden Diner                       0.191449814126\n",
       "Shared Kitchen                     0.186274509804\n",
       "Restaurant                         0.185510126593\n",
       "Children's Services Facility       0.174678899083\n",
       "Daycare Above and Under 2 Years    0.171875000000\n",
       "Special Event                      0.160975609756\n",
       "Catering                           0.159276018100\n",
       "Hospital                           0.143712574850\n",
       "Shared Kitchen User (Long Term)    0.026041666667\n",
       "Name: Results, dtype: float64"
      ]
     },
     "execution_count": 51,
     "metadata": {},
     "output_type": "execute_result"
    }
   ],
   "source": [
    "factype_fail_rate.tail(10)"
   ]
  },
  {
   "cell_type": "code",
   "execution_count": 93,
   "metadata": {},
   "outputs": [
    {
     "data": {
      "text/plain": [
       "(25,)"
      ]
     },
     "execution_count": 93,
     "metadata": {},
     "output_type": "execute_result"
    }
   ],
   "source": [
    "factype_fail_rate.shape"
   ]
  },
  {
   "cell_type": "code",
   "execution_count": 98,
   "metadata": {
    "scrolled": false
   },
   "outputs": [
    {
     "data": {
      "image/png": "[encoded data removed]",
      "text/plain": [
       "<Figure size 720x720 with 1 Axes>"
      ]
     },
     "metadata": {
      "needs_background": "light"
     },
     "output_type": "display_data"
    }
   ],
   "source": [
    "plt.figure(figsize=(10, 10))\n",
    "plt.plot(factype_fail_rate)\n",
    "plt.xticks(rotation=90)\n",
    "plt.show()"
   ]
  },
  {
   "cell_type": "code",
   "execution_count": null,
   "metadata": {},
   "outputs": [],
   "source": []
  }
 ],
 "metadata": {
  "kernelspec": {
   "display_name": "Python 3",
   "language": "python",
   "name": "python3"
  },
  "language_info": {
   "codemirror_mode": {
    "name": "ipython",
    "version": 3
   },
   "file_extension": ".py",
   "mimetype": "text/x-python",
   "name": "python",
   "nbconvert_exporter": "python",
   "pygments_lexer": "ipython3",
   "version": "3.7.1"
  }
 },
 "nbformat": 4,
 "nbformat_minor": 2
}
